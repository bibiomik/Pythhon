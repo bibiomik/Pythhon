{
  "nbformat": 4,
  "nbformat_minor": 0,
  "metadata": {
    "colab": {
      "provenance": []
    },
    "kernelspec": {
      "name": "python3",
      "display_name": "Python 3"
    },
    "language_info": {
      "name": "python"
    }
  },
  "cells": [
    {
      "cell_type": "markdown",
      "source": [
        "# **Project - Create Dataframe from The Rick and Morty Character API**\n",
        "API : https://rickandmortyapi.com/api/character/\n",
        "\n",
        "- Requests 5 url\n",
        "- Extract data 10 columns\n",
        "- Write to csv file"
      ],
      "metadata": {
        "id": "-hqhNQZbOGMf"
      }
    },
    {
      "cell_type": "code",
      "execution_count": 1,
      "metadata": {
        "id": "kkYNaZM3OE3A"
      },
      "outputs": [],
      "source": [
        "# import 'requests' module only 'get' function\n",
        "# and 'time' module only 'sleep' fuunction\n",
        "from requests import get\n",
        "from time import sleep\n",
        "import pandas as pd # manage dataframe"
      ]
    },
    {
      "cell_type": "code",
      "source": [
        "# test request API\n",
        "url = \"https://rickandmortyapi.com/api/character/\"\n",
        "\n",
        "test_resp = get(url)\n",
        "print(test_resp)\n",
        "\n",
        "data = [] # for collecting resulrts into dictionary\n",
        "\n",
        "# use for loop request indeex url 1-5\n",
        "for i in range(1, 11):\n",
        "    new_url = url + str(i)\n",
        "    resp = get(new_url).json() # get url -> show data in json format\n",
        "\n",
        "    # extract data from 5 columns\n",
        "    name = resp[\"name\"]\n",
        "    status = resp[\"status\"]\n",
        "    species = resp[\"species\"]\n",
        "    types = resp[\"type\"]\n",
        "    gender = resp[\"gender\"]\n",
        "\n",
        "    print(name, status, species, types, gender)\n",
        "    sleep(2) # will pause for 2 second after each loop iteration\n",
        "\n",
        "    # append result into disctionary above\n",
        "    data.append(\n",
        "        {\"name\": name,\n",
        "         \"status\": status,\n",
        "         \"species\": species,\n",
        "         \"type\": types,\n",
        "         \"gender\": gender}\n",
        "    )\n",
        "\n",
        "# return data from for loop into dataframe\n",
        "df = pd.DataFrame(data)\n",
        "\n",
        "# write to CSV file\n",
        "df.to_csv(\"the_rick_and_morty_char.csv\", index=False)\n"
      ],
      "metadata": {
        "colab": {
          "base_uri": "https://localhost:8080/"
        },
        "id": "bhMpm33cOUaP",
        "outputId": "d029d433-4cc4-4f45-a199-17ca0bded766"
      },
      "execution_count": 2,
      "outputs": [
        {
          "output_type": "stream",
          "name": "stdout",
          "text": [
            "<Response [200]>\n",
            "Rick Sanchez Alive Human  Male\n",
            "Morty Smith Alive Human  Male\n",
            "Summer Smith Alive Human  Female\n",
            "Beth Smith Alive Human  Female\n",
            "Jerry Smith Alive Human  Male\n",
            "Abadango Cluster Princess Alive Alien  Female\n",
            "Abradolf Lincler unknown Human Genetic experiment Male\n",
            "Adjudicator Rick Dead Human  Male\n",
            "Agency Director Dead Human  Male\n",
            "Alan Rails Dead Human Superhuman (Ghost trains summoner) Male\n"
          ]
        }
      ]
    }
  ]
}