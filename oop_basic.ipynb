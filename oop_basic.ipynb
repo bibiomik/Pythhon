{
 "cells":[
  {
   "cell_type":"markdown",
   "source":[
    "# OOP Data Analyst\n",
    "- build class data analyst and add 3 people\n",
    "- with 5 attributes\n",
    "- def 5 functions"
   ],
   "attachments":{
    
   },
   "metadata":{
    "datalore":{
     "node_id":"0r8hpAnvnwfyw7NeBSVTfY",
     "type":"MD",
     "hide_input_from_viewers":true,
     "hide_output_from_viewers":true
    }
   }
  },
  {
   "cell_type":"code",
   "source":[
    "# build class DA\n",
    "class DA:\n",
    "    def __init__(self, name, age, skill, salary):\n",
    "        self.name = name\n",
    "        self.age = age\n",
    "        self.skill = skill\n",
    "        self.salary = salary\n",
    "\n",
    "    # def 5 functions\n",
    "    def show_attributes(self):\n",
    "        return(f\"Great to See Everyone!\\nMy Name is {self.name}!, I'm {self.age} years old\\nSkill: {self.skill} \\nSalary: {self.salary}\")\n",
    "\n",
    "    def learning(self, name):\n",
    "        print(f\"My Name is {name}, I'm learning bootcamp for upskill data science.\")\n",
    "\n",
    "    def new_jobs(self, position):\n",
    "        print(f\"I'm looking for a new jobs as {position}.\")\n",
    "\n",
    "    def plus_salary(self, growth):\n",
    "        self.salary = self.salary + growth\n",
    "        print(f\"I would like to growth more {growth} salary.\")\n",
    "\n",
    "    def update_salary(self):\n",
    "        print(f\"Now, I got a new jobs with new salary is {self.salary}.\")\n",
    "\n",
    "# add 3 people\n",
    "DA01 = DA(\"John\", 35, \"R\", 40000)\n",
    "DA02 = DA(\"Anna\", 30, \"Python\", 42000)\n",
    "DA03 = DA(\"Jake\", 28, \"SQL\", 35000)"
   ],
   "execution_count":1,
   "outputs":[
    
   ],
   "metadata":{
    "datalore":{
     "node_id":"fngmCB7S89AVc3mF0Piy5j",
     "type":"CODE",
     "hide_input_from_viewers":true,
     "hide_output_from_viewers":true
    }
   }
  },
  {
   "cell_type":"code",
   "source":[
    "# test call DA03 show all attributes\n",
    "print(DA03.show_attributes())"
   ],
   "execution_count":2,
   "outputs":[
    {
     "name":"stdout",
     "text":[
      "Great to See Everyone!\n",
      "My Name is Jake!, I'm 28 years old\n",
      "Skill: SQL \n",
      "Salary: 35000\n"
     ],
     "output_type":"stream"
    }
   ],
   "metadata":{
    "datalore":{
     "node_id":"k7PCafjVnfjTX1M7n10d5D",
     "type":"CODE",
     "hide_input_from_viewers":true,
     "hide_output_from_viewers":true
    }
   }
  },
  {
   "cell_type":"code",
   "source":[
    "# test learning function by DA01\n",
    "DA01.learning(DA01.name)"
   ],
   "execution_count":3,
   "outputs":[
    {
     "name":"stdout",
     "text":[
      "My Name is John, I'm learning bootcamp for upskill data science.\n"
     ],
     "output_type":"stream"
    }
   ],
   "metadata":{
    "datalore":{
     "node_id":"d0Is3HEbjA9qngzxQ9pmjP",
     "type":"CODE",
     "hide_input_from_viewers":true,
     "hide_output_from_viewers":true
    }
   }
  },
  {
   "cell_type":"code",
   "source":[
    "# test new_jobs function by DA02\n",
    "DA02.new_jobs(\"Data Engineer\")"
   ],
   "execution_count":4,
   "outputs":[
    {
     "name":"stdout",
     "text":[
      "I'm looking for a new jobs as Data Engineer.\n"
     ],
     "output_type":"stream"
    }
   ],
   "metadata":{
    "datalore":{
     "node_id":"7gvcEYSpf0jUXpxBSU3PE6",
     "type":"CODE",
     "hide_input_from_viewers":true,
     "hide_output_from_viewers":true
    }
   }
  },
  {
   "cell_type":"code",
   "source":[
    "# test plus_salary function by DA02\n",
    "DA02.plus_salary(5000)"
   ],
   "execution_count":5,
   "outputs":[
    {
     "name":"stdout",
     "text":[
      "I would like to growth more 5000 salary.\n"
     ],
     "output_type":"stream"
    }
   ],
   "metadata":{
    "datalore":{
     "node_id":"BQpMxseGMBEDPNMJD9dz3K",
     "type":"CODE",
     "hide_input_from_viewers":true,
     "hide_output_from_viewers":true
    }
   }
  },
  {
   "cell_type":"code",
   "source":[
    "## test update_salary function by DA02\n",
    "DA02.update_salary()"
   ],
   "execution_count":6,
   "outputs":[
    {
     "name":"stdout",
     "text":[
      "Now, I got a new jobs with new salary is 47000.\n"
     ],
     "output_type":"stream"
    }
   ],
   "metadata":{
    "datalore":{
     "node_id":"9YEjDOt6DEbYaa9DeCqKGR",
     "type":"CODE",
     "hide_input_from_viewers":true,
     "hide_output_from_viewers":true
    }
   }
  }
 ],
 "metadata":{
  "kernelspec":{
   "display_name":"Python",
   "language":"python",
   "name":"python"
  },
  "datalore":{
   "computation_mode":"JUPYTER",
   "package_manager":"pip",
   "base_environment":"default",
   "packages":[
    
   ],
   "report_row_ids":[
    
   ],
   "version":3
  }
 },
 "nbformat":4,
 "nbformat_minor":4
}