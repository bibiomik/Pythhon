{
 "cells":[
  {
   "cell_type":"markdown",
   "source":[
    "# Rock Paper Scissors Game\n",
    "- def RPS game function\n",
    "- ask input user name and print game rule\n",
    "- each turn will get 1 score for winner\n",
    "- print summary score when stop play"
   ],
   "attachments":{
    
   },
   "metadata":{
    "datalore":{
     "node_id":"R3Fq1a9SYrq2R3non17DJZ",
     "type":"MD",
     "hide_input_from_viewers":true,
     "hide_output_from_viewers":true
    }
   }
  },
  {
   "cell_type":"code",
   "source":[
    "import random\n",
    "\n",
    "def game():\n",
    "    print(\"Welcome to Rock Paper Scissors Game!🔨✂️📃\")\n",
    "    player_name = input(\"Enter Player Name: \")\n",
    "    print(f\"Hello {player_name} Let's RPS!\")\n",
    "\n",
    "    #game rules\n",
    "    print(\"📍RPS game rules📍\" )\n",
    "    print(\"1) choose which one for your turn.\")\n",
    "    print(\"2) then let me choose too.\")\n",
    "    print(\"3) for each turn who win get 1 score.\")\n",
    "    print(\"4) type stop if want to end game and see summary score\")\n",
    "\n",
    "    game_round = 1\n",
    "    player_score = 0\n",
    "    computer_score = 0\n",
    "\n",
    "    #loop\n",
    "    while player_score < 3 and computer_score < 3:\n",
    "        choices = (\"rock\", \"paper\", \"scissors\")\n",
    "        computer_choice = random.choice(choices)\n",
    "        player_choice = input(\"Choose rock, paper, scissors or exit: \")\n",
    "\n",
    "        #exit\n",
    "        if player_choice == \"exit\":\n",
    "            print(f\"Exit to Game\")\n",
    "            break\n",
    "\n",
    "        #draw\n",
    "        if player_choice == computer_choice:\n",
    "            print(f\"Computer: {computer_choice}\")\n",
    "            print(f\"Draw! {player_score} vs {computer_score}\")\n",
    "\n",
    "        #win\n",
    "        elif (player_choice == \"rock\" and computer_choice == \"scissors\") or \\\n",
    "             (player_choice == \"paper\" and computer_choice == \"rock\") or \\\n",
    "             (player_choice == \"scissors\" and computer_choice == \"paper\"):\n",
    "\n",
    "            player_score = player_score + 1\n",
    "            print(f\"Computer: {computer_choice}\")\n",
    "            print(f\"You Wins! {player_score} vs {computer_score}\")\n",
    "\n",
    "        #lose\n",
    "        elif (player_choice == \"rock\" and computer_choice == \"paper\") or \\\n",
    "             (player_choice == \"paper\" and computer_choice == \"scissors\") or \\\n",
    "             (player_choice == \"scissors\" and computer_choice == \"rock\"):\n",
    "\n",
    "            computer_score = computer_score + 1\n",
    "            print(f\"Computer: {computer_choice}\")\n",
    "            print(f\"You Lose! {player_score} vs {computer_score}\")\n",
    "\n",
    "        else:\n",
    "            print(\"Exit the game\")\n",
    "\n",
    "#print score\n",
    "    print(f\"{player_score} vs {computer_score}\")\n",
    "\n",
    "#conclusion\n",
    "    if player_score > computer_score:\n",
    "        print(\"Congratulations! You win the game!🏆\")\n",
    "    elif player_score < computer_score:\n",
    "        print(\"Sorry, you lose. Better luck next time!🥹\")\n",
    "    else:\n",
    "        player_score == computer_score\n",
    "        print(\"It's a draw! Good game.✨\")\n",
    "\n",
    "        print(\"-----END GAME-----\")\n",
    "\n",
    "## perview function\n",
    "game()"
   ],
   "execution_count":1,
   "outputs":[
    {
     "name":"stdout",
     "text":[
      "Welcome to Rock Paper Scissors Game!🔨✂️📃\n",
      "Enter Player Name:  mookmick\n",
      "Hello mookmick Let's RPS!\n",
      "📍RPS game rules📍\n",
      "1) choose which one for your turn.\n",
      "2) then let me choose too.\n",
      "3) for each turn who win get 1 score.\n",
      "4) type stop if want to end game and see summary score\n",
      "Choose rock, paper, scissors or exit:  rock\n",
      "Computer: scissors\n",
      "You Wins! 1 vs 0\n",
      "Choose rock, paper, scissors or exit:  paper\n",
      "Computer: paper\n",
      "Draw! 1 vs 0\n",
      "Choose rock, paper, scissors or exit:  rock\n",
      "Computer: scissors\n",
      "You Wins! 2 vs 0\n",
      "Choose rock, paper, scissors or exit:  scissors\n",
      "Computer: paper\n",
      "You Wins! 3 vs 0\n",
      "3 vs 0\n",
      "Congratulations! You win the game!🏆\n"
     ],
     "output_type":"stream"
    }
   ],
   "metadata":{
    "datalore":{
     "node_id":"BXjK3Gflw5hPdvKUC6BTnB",
     "type":"CODE",
     "hide_input_from_viewers":true,
     "hide_output_from_viewers":true
    }
   }
  }
 ],
 "metadata":{
  "kernelspec":{
   "display_name":"Python",
   "language":"python",
   "name":"python"
  },
  "datalore":{
   "computation_mode":"JUPYTER",
   "package_manager":"pip",
   "base_environment":"default",
   "packages":[
    
   ],
   "report_row_ids":[
    
   ],
   "version":3
  }
 },
 "nbformat":4,
 "nbformat_minor":4
}