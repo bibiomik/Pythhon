{
  "nbformat": 4,
  "nbformat_minor": 0,
  "metadata": {
    "colab": {
      "provenance": []
    },
    "kernelspec": {
      "name": "python3",
      "display_name": "Python 3"
    },
    "language_info": {
      "name": "python"
    }
  },
  "cells": [
    {
      "cell_type": "markdown",
      "source": [
        "# **OOP ATM**\n",
        "\n",
        "- build class ATM and 1 account\n",
        "- have 4 attributes\n",
        "- def 5 functions"
      ],
      "metadata": {
        "id": "RT2zE-B4MNJP"
      }
    },
    {
      "cell_type": "code",
      "execution_count": null,
      "metadata": {
        "id": "KK_kwkYhMKgy"
      },
      "outputs": [],
      "source": [
        "from random import randint"
      ]
    },
    {
      "cell_type": "code",
      "source": [
        "class ATM:\n",
        "    pass"
      ],
      "metadata": {
        "id": "tmVhS9ZoMV-U"
      },
      "execution_count": null,
      "outputs": []
    },
    {
      "cell_type": "code",
      "source": [
        "class ATM():\n",
        "    def __init__ (self, account_name, bank_name, initial):\n",
        "        self.account_name = account_name\n",
        "        self.bank_name = bank_name\n",
        "        self.balance = initial\n",
        "\n",
        "    ## string representation\n",
        "    def __str__(self):\n",
        "        return f\"This is your account inof.\\naccount_name: {self.account_name} \\nbank: {self.bank_name} \\nbalance: {self.balance} THB\"\n",
        "\n",
        "    ## method => function\n",
        "    def check_balance(self):\n",
        "        print(f\"Balace: {self.balance} THB\")\n",
        "\n",
        "    def deposit(self, money):\n",
        "        self.balance += money\n",
        "        print(f\"Deposit successfully: your new balance: {self.balance} THB\")\n",
        "\n",
        "    def withdraw(self, money):\n",
        "        self.balance -= money\n",
        "        print(f\"Withdraw successfully: your new balance: {self.balance} THB\")\n",
        "\n",
        "    def get_OTP(self):\n",
        "        otp = randint(1000, 9999)\n",
        "        print(f\"Your OTP: {otp} This OTP will be availble in the next 2 minutes.\")\n",
        "        return otp\n",
        "\n",
        "    # change account name function with 3 steps\n",
        "    # 1. aask current account name\n",
        "    # 2. send otp & input comfirm OTP\n",
        "    # 3. input new account name\n",
        "\n",
        "    def change_account_name(self):\n",
        "        current_account_name = input( \"Enter your current account name: \" )\n",
        "\n",
        "        if current_account_name != self.account_name:\n",
        "            print( \"Incorrect account name, process canceled.\" )\n",
        "            return\n",
        "\n",
        "        send_otp = self.get_OTP()\n",
        "        comfirm_otp = int( input(\"Enter the OTP received: \") )\n",
        "\n",
        "        if comfirm_otp == send_otp :\n",
        "            new_account_name = input( \"Enter your new account name: \" )\n",
        "            self.account_name = new_account_name\n",
        "            print( f\"updated successfully. New account name is: {self.account_name}\" )\n",
        "        else:\n",
        "            print( \"OTP not correct. change account name canceled.\" )"
      ],
      "metadata": {
        "id": "oWRKxLZJMZ6O"
      },
      "execution_count": null,
      "outputs": []
    },
    {
      "cell_type": "code",
      "source": [
        "## create first account into ATM class\n",
        "acc1 = ATM(\"mook\", \"Kbank\", 5000)"
      ],
      "metadata": {
        "id": "d3R6nUPfMb3K"
      },
      "execution_count": null,
      "outputs": []
    },
    {
      "cell_type": "code",
      "source": [
        "# chheck account info\n",
        "print(acc1)"
      ],
      "metadata": {
        "colab": {
          "base_uri": "https://localhost:8080/"
        },
        "id": "bjppMcVuMd8i",
        "outputId": "e27aaf41-0543-4190-ac6d-5bb05484adcc"
      },
      "execution_count": null,
      "outputs": [
        {
          "output_type": "stream",
          "name": "stdout",
          "text": [
            "This is your account inof.\n",
            "account_name: mook \n",
            "bank: Kbank \n",
            "balance: 5000 THB\n"
          ]
        }
      ]
    },
    {
      "cell_type": "code",
      "source": [
        "# test deposit function\n",
        "acc1.deposit(500)"
      ],
      "metadata": {
        "colab": {
          "base_uri": "https://localhost:8080/"
        },
        "id": "Pl1imjoIMfry",
        "outputId": "f61aab96-58df-4283-c137-6f1d55a89b41"
      },
      "execution_count": null,
      "outputs": [
        {
          "output_type": "stream",
          "name": "stdout",
          "text": [
            "Deposit successfully: your new balance: 5500 THB\n"
          ]
        }
      ]
    },
    {
      "cell_type": "code",
      "source": [
        "# test withdraw function\n",
        "acc1.withdraw(254)"
      ],
      "metadata": {
        "colab": {
          "base_uri": "https://localhost:8080/"
        },
        "id": "zm1JS3jtMhu-",
        "outputId": "d7c112fd-21e9-40c7-e7f0-e7343f5810cb"
      },
      "execution_count": null,
      "outputs": [
        {
          "output_type": "stream",
          "name": "stdout",
          "text": [
            "Withdraw successfully: your new balance: 5246 THB\n"
          ]
        }
      ]
    },
    {
      "cell_type": "code",
      "source": [
        "# test change account name function but input wrong current account name\n",
        "acc1.change_account_name()"
      ],
      "metadata": {
        "colab": {
          "base_uri": "https://localhost:8080/"
        },
        "id": "-ZSdVla1Mjpp",
        "outputId": "b544c154-d815-4ef4-8771-2c8e5be9591f"
      },
      "execution_count": null,
      "outputs": [
        {
          "output_type": "stream",
          "name": "stdout",
          "text": [
            "Enter your current account name: tomtam\n",
            "Incorrect account name, process canceled.\n"
          ]
        }
      ]
    },
    {
      "cell_type": "code",
      "source": [
        "# test change name function but input wrong OTP\n",
        "acc1.change_account_name()"
      ],
      "metadata": {
        "colab": {
          "base_uri": "https://localhost:8080/"
        },
        "id": "KZC5hXSxMldJ",
        "outputId": "40d9b465-a3f4-498e-c286-183cd2797087"
      },
      "execution_count": null,
      "outputs": [
        {
          "output_type": "stream",
          "name": "stdout",
          "text": [
            "Enter your current account name: mook\n",
            "Your OTP: 2019 This OTP will be availble in the next 2 minutes.\n",
            "Enter the OTP received: 2018\n",
            "OTP not correct. change account name canceled.\n"
          ]
        }
      ]
    },
    {
      "cell_type": "code",
      "source": [
        "# test change account name function input all correct\n",
        "acc1.change_account_name()"
      ],
      "metadata": {
        "colab": {
          "base_uri": "https://localhost:8080/"
        },
        "id": "gCD4uk6MMpXR",
        "outputId": "5a7a6ee7-7c84-4b7d-9a43-d7effac1b841"
      },
      "execution_count": null,
      "outputs": [
        {
          "output_type": "stream",
          "name": "stdout",
          "text": [
            "Enter your current account name: mook\n",
            "Your OTP: 4229 This OTP will be availble in the next 2 minutes.\n",
            "Enter the OTP received: 4229\n",
            "Enter your new account name: mookmick\n",
            "updated successfully. New account name is: mookmick\n"
          ]
        }
      ]
    }
  ]
}