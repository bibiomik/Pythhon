{
  "nbformat": 4,
  "nbformat_minor": 0,
  "metadata": {
    "colab": {
      "provenance": []
    },
    "kernelspec": {
      "name": "python3",
      "display_name": "Python 3"
    },
    "language_info": {
      "name": "python"
    }
  },
  "cells": [
    {
      "cell_type": "markdown",
      "source": [
        "# **API StarWar**\n",
        "- requests 5 url\n",
        "- extract data 5 column\n",
        "    - (name, height, mass, gender, homeworld)\n",
        "- write to csv file"
      ],
      "metadata": {
        "id": "8NwVJsUbNj5R"
      }
    },
    {
      "cell_type": "code",
      "source": [
        "from requests import get\n",
        "from time import sleep\n",
        "import pandas as pd # manage dataframe"
      ],
      "metadata": {
        "id": "fIsS8AXtNuBu"
      },
      "execution_count": 1,
      "outputs": []
    },
    {
      "cell_type": "code",
      "source": [
        "from types import new_class\n",
        "url = \"https://swapi.dev/api/people/\"\n",
        "\n",
        "test_resp = get(url)\n",
        "print(test_resp)\n",
        "\n",
        "# build for loop request index 1-5 url\n",
        "\n",
        "data = []\n",
        "\n",
        "for i in range(5):\n",
        "    index = i + 1\n",
        "    new_url = url + str(index)\n",
        "    resp = get(new_url).json()\n",
        "    # extract data from 5 cloumns\n",
        "    name = resp[\"name\"]\n",
        "    height = resp[\"height\"]\n",
        "    mass = resp[\"mass\"]\n",
        "    gender = resp[\"gender\"]\n",
        "    homeworld_url = resp[\"homeworld\"]\n",
        "\n",
        "    # extract data from \"name\" column in homerworld url\n",
        "    if homeworld_url:\n",
        "        homeworld_resp = get(homeworld_url).json()\n",
        "        homeworld = homeworld_resp[\"name\"]\n",
        "    else:\n",
        "        homeworld = \"Unknown\"\n",
        "\n",
        "    print(name, height, mass, gender, homeworld)\n",
        "\n",
        "    # append result into disctionary above\n",
        "    data.append(\n",
        "        {\"name\": name,\n",
        "         \"height\": height,\n",
        "         \"mass\": mass,\n",
        "         \"gender\": gender,\n",
        "         \"homeworld\": homeworld}\n",
        "    )\n",
        "\n",
        "    # will stop 2 sec when finiish 1 loop\n",
        "    sleep(2)\n",
        "\n",
        "# return data from for loop into dataframe\n",
        "df = pd.DataFrame(data)\n",
        "\n",
        "# write to csv file\n",
        "df.to_csv(\"5_star_wars_people.csv\", index = False)"
      ],
      "metadata": {
        "colab": {
          "base_uri": "https://localhost:8080/"
        },
        "id": "VC4InvBJNwn2",
        "outputId": "09bebf68-8f95-47bc-cb11-ff2d97ea095c"
      },
      "execution_count": 2,
      "outputs": [
        {
          "output_type": "stream",
          "name": "stdout",
          "text": [
            "<Response [200]>\n",
            "Luke Skywalker 172 77 male Tatooine\n",
            "C-3PO 167 75 n/a Tatooine\n",
            "R2-D2 96 32 n/a Naboo\n",
            "Darth Vader 202 136 male Tatooine\n",
            "Leia Organa 150 49 female Alderaan\n"
          ]
        }
      ]
    }
  ]
}